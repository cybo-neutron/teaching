{
 "cells": [
  {
   "cell_type": "code",
   "execution_count": 10,
   "metadata": {},
   "outputs": [
    {
     "name": "stdout",
     "output_type": "stream",
     "text": [
      "1\n",
      "2\n",
      "3\n",
      "4\n",
      "5\n",
      "Stack overflow\n"
     ]
    }
   ],
   "source": [
    "class Stack:\n",
    "    def __init__(self,capacity:int) -> None:\n",
    "        self.arr = [0]*capacity\n",
    "        self.top = -1\n",
    "        self.capacity = capacity\n",
    "\n",
    "    def push(self,val:int):\n",
    "        if self.top == self.capacity-1:\n",
    "            print(\"Stack overflow\")\n",
    "            return\n",
    "        self.top+=1\n",
    "        self.arr[self.top] = val\n",
    "\n",
    "    def pop(self):\n",
    "        if self.top==-1:\n",
    "            print(\"Stack Underflow\")\n",
    "            return\n",
    "        self.top-=1\n",
    "    \n",
    "    def top(self):\n",
    "        if self.top == -1:\n",
    "            print(\"Error : no element present\")\n",
    "            return\n",
    "        return self.arr[self.top]\n",
    "\n",
    "    def stackSize(self):\n",
    "        return self.top+1\n",
    "        \n",
    "\n",
    "\n",
    "s = Stack(5)\n",
    "s.push(5)\n",
    "print(s.stackSize())\n",
    "s.push(5)\n",
    "print(s.stackSize())\n",
    "s.push(5)\n",
    "print(s.stackSize())\n",
    "s.push(5)\n",
    "print(s.stackSize())\n",
    "s.push(5)\n",
    "print(s.stackSize())\n",
    "s.push(5)\n",
    "\n",
    "s.pop()\n",
    "\n",
    "\n",
    "\n",
    "\n",
    "\n",
    "    "
   ]
  },
  {
   "cell_type": "code",
   "execution_count": 16,
   "metadata": {},
   "outputs": [
    {
     "name": "stdout",
     "output_type": "stream",
     "text": [
      "6\n"
     ]
    },
    {
     "ename": "Exception",
     "evalue": "Stack underflow",
     "output_type": "error",
     "traceback": [
      "\u001b[1;31m---------------------------------------------------------------------------\u001b[0m",
      "\u001b[1;31mException\u001b[0m                                 Traceback (most recent call last)",
      "Cell \u001b[1;32mIn[16], line 49\u001b[0m\n\u001b[0;32m     47\u001b[0m ds\u001b[39m.\u001b[39mpop()\n\u001b[0;32m     48\u001b[0m \u001b[39m# print(ds.top())\u001b[39;00m\n\u001b[1;32m---> 49\u001b[0m ds\u001b[39m.\u001b[39;49mpop()\n",
      "Cell \u001b[1;32mIn[16], line 23\u001b[0m, in \u001b[0;36mDynamicStack.pop\u001b[1;34m(self)\u001b[0m\n\u001b[0;32m     21\u001b[0m \u001b[39mdef\u001b[39;00m \u001b[39mpop\u001b[39m(\u001b[39mself\u001b[39m):\n\u001b[0;32m     22\u001b[0m     \u001b[39mif\u001b[39;00m \u001b[39mself\u001b[39m\u001b[39m.\u001b[39mhead \u001b[39m==\u001b[39m \u001b[39mNone\u001b[39;00m:\n\u001b[1;32m---> 23\u001b[0m         \u001b[39mraise\u001b[39;00m \u001b[39mException\u001b[39;00m(\u001b[39m\"\u001b[39m\u001b[39mStack underflow\u001b[39m\u001b[39m\"\u001b[39m)\n\u001b[0;32m     25\u001b[0m     \u001b[39mself\u001b[39m\u001b[39m.\u001b[39mhead \u001b[39m=\u001b[39m \u001b[39mself\u001b[39m\u001b[39m.\u001b[39mhead\u001b[39m.\u001b[39mnext\n\u001b[0;32m     26\u001b[0m     \u001b[39mself\u001b[39m\u001b[39m.\u001b[39mstackSize\u001b[39m-\u001b[39m\u001b[39m=\u001b[39m\u001b[39m1\u001b[39m\n",
      "\u001b[1;31mException\u001b[0m: Stack underflow"
     ]
    }
   ],
   "source": [
    "class Node:\n",
    "    def __init__(self,val) -> None:\n",
    "        self.val = val\n",
    "        self.next = None\n",
    "\n",
    "\n",
    "class DynamicStack:\n",
    "    def __init__(self) -> None:\n",
    "        self.head = None\n",
    "        self.stackSize = 0\n",
    "\n",
    "    def push(self,val:int):\n",
    "        if self.head == None:\n",
    "            self.head = Node(val)\n",
    "        else:\n",
    "            newNode = Node(val)\n",
    "            newNode.next = self.head\n",
    "            self.head = newNode\n",
    "        self.stackSize+=1\n",
    "        \n",
    "    def pop(self):\n",
    "        if self.head == None:\n",
    "            raise Exception(\"Stack underflow\")\n",
    "        \n",
    "        self.head = self.head.next\n",
    "        self.stackSize-=1\n",
    "    \n",
    "    def top(self):\n",
    "        if self.head == None:\n",
    "            raise Exception(\"No element present\")\n",
    "\n",
    "        return self.head.val\n",
    "        \n",
    "    def stackSize(self):\n",
    "        return self.stackSize\n",
    "    \n",
    "\n",
    "ds = DynamicStack()\n",
    "ds.push(5)\n",
    "ds.push(4)\n",
    "ds.push(6)\n",
    "\n",
    "print(ds.top())\n",
    "\n",
    "ds.pop()\n",
    "ds.pop()\n",
    "ds.pop()\n",
    "# print(ds.top())\n",
    "ds.pop()\n"
   ]
  }
 ],
 "metadata": {
  "kernelspec": {
   "display_name": "Python 3",
   "language": "python",
   "name": "python3"
  },
  "language_info": {
   "codemirror_mode": {
    "name": "ipython",
    "version": 3
   },
   "file_extension": ".py",
   "mimetype": "text/x-python",
   "name": "python",
   "nbconvert_exporter": "python",
   "pygments_lexer": "ipython3",
   "version": "3.10.9 (tags/v3.10.9:1dd9be6, Dec  6 2022, 20:01:21) [MSC v.1934 64 bit (AMD64)]"
  },
  "orig_nbformat": 4,
  "vscode": {
   "interpreter": {
    "hash": "66f804da07f0f556d77bc3269dc5bb19edf020422864031af2885e5ff55f9079"
   }
  }
 },
 "nbformat": 4,
 "nbformat_minor": 2
}
