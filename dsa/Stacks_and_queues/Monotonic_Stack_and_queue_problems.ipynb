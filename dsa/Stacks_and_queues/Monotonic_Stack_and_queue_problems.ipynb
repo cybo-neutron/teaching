{
 "cells": [
  {
   "attachments": {},
   "cell_type": "markdown",
   "metadata": {},
   "source": [
    "# Monotonic stack/ Queue Problems"
   ]
  },
  {
   "attachments": {},
   "cell_type": "markdown",
   "metadata": {},
   "source": [
    "## 1. Next Greater Element"
   ]
  },
  {
   "cell_type": "code",
   "execution_count": null,
   "metadata": {},
   "outputs": [],
   "source": [
    "#implementing Next Greater Element Array\n",
    "\n",
    "def nextGreaterElement(arr):\n",
    "    s = []\n",
    "    nge = [-1]*len(arr)\n",
    "    for i in range(0,len(arr)):\n",
    "        while len(s)>0 and arr[s[-1]] <arr[i]:\n",
    "            index = s.pop()\n",
    "            nge[index] = arr[i]\n",
    "        s.append(i)\n",
    "\n",
    "    return nge\n",
    "\n",
    "arr = [3,2,1,5,4,7]\n",
    "nge = nextGreaterElement(arr)\n",
    "\n",
    "print(nge)\n",
    "            "
   ]
  },
  {
   "cell_type": "code",
   "execution_count": null,
   "metadata": {},
   "outputs": [],
   "source": [
    "#leetcode problem\n",
    "class Solution:\n",
    "    def nextGreaterElement(self, nums1: List[int], arr: List[int]) -> List[int]:\n",
    "        s = []\n",
    "        nge = [-1]*len(arr)\n",
    "        for i in range(0,len(arr)):\n",
    "            while len(s)>0 and arr[s[-1]] <arr[i]:\n",
    "                index = s.pop()\n",
    "                nge[index] = arr[i]\n",
    "            s.append(i)\n",
    "\n",
    "        d = dict()\n",
    "        for i in range(0,len(arr)):\n",
    "            d[arr[i]] = nge[i]\n",
    "\n",
    "        res = [-1]*len(nums1)\n",
    "        \n",
    "        for i in range(len(nums1)):\n",
    "            res[i] = d[nums1[i]]\n",
    "        \n",
    "        return res\n"
   ]
  },
  {
   "cell_type": "code",
   "execution_count": 5,
   "metadata": {},
   "outputs": [
    {
     "name": "stdout",
     "output_type": "stream",
     "text": [
      "[1, 2, 3]\n"
     ]
    }
   ],
   "source": [
    "# leetcode problem : https://leetcode.com/problems/next-greater-element-ii/description/\n",
    "# Next Greater Element II\n",
    "\n",
    "class Solution:\n",
    "    def nextGreaterElements(self, nums: List[int]) -> List[int]:\n",
    "        stack = []\n",
    "        n = len(nums)\n",
    "        nums.extend(nums)\n",
    "        nge = self.nextGreaterElement(nums)\n",
    "\n",
    "        return nge[0:n]\n",
    "\n",
    "    def nextGreaterElement(self,arr):\n",
    "        s = []\n",
    "        nge = [-1]*len(arr)\n",
    "        for i in range(0,len(arr)):\n",
    "            while len(s)>0 and arr[s[-1]] <arr[i]:\n",
    "                index = s.pop()\n",
    "                nge[index] = arr[i]\n",
    "            s.append(i)\n",
    "\n",
    "        return nge"
   ]
  },
  {
   "attachments": {},
   "cell_type": "markdown",
   "metadata": {},
   "source": [
    "## 2. Sum of Subarray Minimums\n",
    "https://leetcode.com/problems/sum-of-subarray-minimums/description/\n"
   ]
  },
  {
   "cell_type": "code",
   "execution_count": null,
   "metadata": {},
   "outputs": [],
   "source": [
    "class Solution:\n",
    "    def sumSubarrayMins(self, arr: List[int]) -> int:\n",
    "        n = len(arr)\n",
    "        populate = [None] * n\n",
    "        stack = []\n",
    "        for i in range(n):\n",
    "            while stack and arr[stack[-1]] > arr[i]:\n",
    "                idx = stack.pop()\n",
    "                nextSmaller = i\n",
    "                prevSmaller = stack[-1] if stack else -1\n",
    "                populate[idx] = (nextSmaller, prevSmaller)\n",
    "\n",
    "            stack.append(i)\n",
    "\n",
    "        while stack:\n",
    "            idx = stack.pop()\n",
    "            nextSmaller = n\n",
    "            prevSmaller = stack[-1] if stack else -1\n",
    "            populate[idx] = (nextSmaller, prevSmaller)\n",
    "\n",
    "        sum = 0\n",
    "        mod = int(1e9 + 7)\n",
    "        for i in range(n):\n",
    "            nextSmaller, prevSmaller = populate[i]\n",
    "            forward = (nextSmaller - i) * arr[i]\n",
    "            backward = (i - prevSmaller - 1) * (nextSmaller - i) * arr[i]\n",
    "\n",
    "            sum = (sum % mod + (forward % mod + backward % mod) % mod) % mod\n",
    "\n",
    "        return sum"
   ]
  }
 ],
 "metadata": {
  "kernelspec": {
   "display_name": "Python 3",
   "language": "python",
   "name": "python3"
  },
  "language_info": {
   "codemirror_mode": {
    "name": "ipython",
    "version": 3
   },
   "file_extension": ".py",
   "mimetype": "text/x-python",
   "name": "python",
   "nbconvert_exporter": "python",
   "pygments_lexer": "ipython3",
   "version": "3.10.9"
  },
  "orig_nbformat": 4,
  "vscode": {
   "interpreter": {
    "hash": "66f804da07f0f556d77bc3269dc5bb19edf020422864031af2885e5ff55f9079"
   }
  }
 },
 "nbformat": 4,
 "nbformat_minor": 2
}
