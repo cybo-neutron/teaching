{
 "cells": [
  {
   "attachments": {},
   "cell_type": "markdown",
   "metadata": {},
   "source": [
    "# Monotonic stack/ Queue Problems"
   ]
  },
  {
   "attachments": {},
   "cell_type": "markdown",
   "metadata": {},
   "source": [
    "## 1. Next Greater Element"
   ]
  },
  {
   "cell_type": "code",
   "execution_count": null,
   "metadata": {},
   "outputs": [],
   "source": [
    "#implementing Next Greater Element Array\n",
    "\n",
    "def nextGreaterElement(arr):\n",
    "    s = []\n",
    "    nge = [-1]*len(arr)\n",
    "    for i in range(0,len(arr)):\n",
    "        while len(s)>0 and arr[s[-1]] <arr[i]:\n",
    "            index = s.pop()\n",
    "            nge[index] = arr[i]\n",
    "        s.append(i)\n",
    "\n",
    "    return nge\n",
    "\n",
    "arr = [3,2,1,5,4,7]\n",
    "nge = nextGreaterElement(arr)\n",
    "\n",
    "print(nge)\n",
    "            "
   ]
  },
  {
   "cell_type": "code",
   "execution_count": null,
   "metadata": {},
   "outputs": [],
   "source": [
    "#leetcode problem\n",
    "class Solution:\n",
    "    def nextGreaterElement(self, nums1: List[int], arr: List[int]) -> List[int]:\n",
    "        s = []\n",
    "        nge = [-1]*len(arr)\n",
    "        for i in range(0,len(arr)):\n",
    "            while len(s)>0 and arr[s[-1]] <arr[i]:\n",
    "                index = s.pop()\n",
    "                nge[index] = arr[i]\n",
    "            s.append(i)\n",
    "\n",
    "        d = dict()\n",
    "        for i in range(0,len(arr)):\n",
    "            d[arr[i]] = nge[i]\n",
    "\n",
    "        res = [-1]*len(nums1)\n",
    "        \n",
    "        for i in range(len(nums1)):\n",
    "            res[i] = d[nums1[i]]\n",
    "        \n",
    "        return res\n"
   ]
  }
 ],
 "metadata": {
  "kernelspec": {
   "display_name": "Python 3",
   "language": "python",
   "name": "python3"
  },
  "language_info": {
   "name": "python",
   "version": "3.10.9 (tags/v3.10.9:1dd9be6, Dec  6 2022, 20:01:21) [MSC v.1934 64 bit (AMD64)]"
  },
  "orig_nbformat": 4,
  "vscode": {
   "interpreter": {
    "hash": "66f804da07f0f556d77bc3269dc5bb19edf020422864031af2885e5ff55f9079"
   }
  }
 },
 "nbformat": 4,
 "nbformat_minor": 2
}
