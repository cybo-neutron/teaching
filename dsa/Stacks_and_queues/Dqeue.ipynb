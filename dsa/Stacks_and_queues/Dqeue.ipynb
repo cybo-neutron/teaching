{
 "cells": [
  {
   "cell_type": "code",
   "execution_count": 2,
   "metadata": {},
   "outputs": [
    {
     "name": "stdout",
     "output_type": "stream",
     "text": [
      "9\n",
      "4\n",
      "1\n"
     ]
    }
   ],
   "source": [
    "class Node:\n",
    "    def __init__(self,val) -> None:\n",
    "        self.val = val\n",
    "        self.next = None\n",
    "        self.prev = None\n",
    "\n",
    "\n",
    "class Deque:\n",
    "    def __init__(self) -> None:\n",
    "        self.head = None\n",
    "        self.tail = None\n",
    "\n",
    "    def push(self,val):\n",
    "        if self.head==None:\n",
    "            # deque empty\n",
    "            self.head = Node(val)\n",
    "            self.tail=self.head\n",
    "        else:\n",
    "            newNode = Node(val)\n",
    "            self.tail.next = newNode\n",
    "            newNode.prev = self.tail\n",
    "            self.tail = newNode\n",
    "\n",
    "    def pushLeft(self,val):\n",
    "        if self.head==None:\n",
    "            # deque empty\n",
    "            self.head = Node(val)\n",
    "            self.tail=self.head\n",
    "        else:\n",
    "            newNode = Node(val)\n",
    "            self.head.prev = newNode\n",
    "            newNode.next = self.head\n",
    "            self.head = newNode\n",
    "\n",
    "    def pop(self):\n",
    "        if self.head == None:\n",
    "            raise Exception(\"Deque is empty\")\n",
    "        if self.head.next == None:\n",
    "            self.head = None\n",
    "            self.tail = None\n",
    "            return\n",
    "\n",
    "        self.tail.prev.next = None\n",
    "        self.tail = self.tail.prev\n",
    "    \n",
    "    def popLeft(self):\n",
    "        if self.head == None:\n",
    "            raise Exception(\"Deque is empty\")\n",
    "        if self.head.next == None:\n",
    "            self.head = None\n",
    "            self.tail = None\n",
    "            return\n",
    "\n",
    "        self.head.next.prev = None\n",
    "        self.head = self.head.next\n",
    "    \n",
    "    def peek(self):\n",
    "        if self.head == None:\n",
    "            raise Exception(\"Deque is empty\")\n",
    "        return self.tail.val\n",
    "    \n",
    "    def peekLeft(self):\n",
    "        if self.head == None:\n",
    "            raise Exception(\"Deque is empty\")\n",
    "\n",
    "        return self.head.val\n",
    "\n",
    "\n",
    "dq = Deque()\n",
    "dq.push(4)\n",
    "dq.push(6)\n",
    "dq.push(8)\n",
    "dq.push(9)\n",
    "\n",
    "print(dq.peek())\n",
    "print(dq.peekLeft())\n",
    "dq.pushLeft(1)\n",
    "print(dq.peekLeft())"
   ]
  }
 ],
 "metadata": {
  "kernelspec": {
   "display_name": "Python 3",
   "language": "python",
   "name": "python3"
  },
  "language_info": {
   "codemirror_mode": {
    "name": "ipython",
    "version": 3
   },
   "file_extension": ".py",
   "mimetype": "text/x-python",
   "name": "python",
   "nbconvert_exporter": "python",
   "pygments_lexer": "ipython3",
   "version": "3.10.9"
  },
  "orig_nbformat": 4,
  "vscode": {
   "interpreter": {
    "hash": "66f804da07f0f556d77bc3269dc5bb19edf020422864031af2885e5ff55f9079"
   }
  }
 },
 "nbformat": 4,
 "nbformat_minor": 2
}
