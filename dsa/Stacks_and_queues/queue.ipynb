{
 "cells": [
  {
   "cell_type": "code",
   "execution_count": 23,
   "metadata": {},
   "outputs": [
    {
     "name": "stdout",
     "output_type": "stream",
     "text": [
      "4\n"
     ]
    },
    {
     "ename": "Exception",
     "evalue": "Queue is empty",
     "output_type": "error",
     "traceback": [
      "\u001b[1;31m---------------------------------------------------------------------------\u001b[0m",
      "\u001b[1;31mException\u001b[0m                                 Traceback (most recent call last)",
      "Cell \u001b[1;32mIn[23], line 59\u001b[0m\n\u001b[0;32m     53\u001b[0m q\u001b[39m.\u001b[39mpop();\n\u001b[0;32m     54\u001b[0m q\u001b[39m.\u001b[39mpop();\n\u001b[1;32m---> 59\u001b[0m \u001b[39mprint\u001b[39m(q\u001b[39m.\u001b[39;49mpeek())\n",
      "Cell \u001b[1;32mIn[23], line 33\u001b[0m, in \u001b[0;36mQueue.peek\u001b[1;34m(self)\u001b[0m\n\u001b[0;32m     31\u001b[0m \u001b[39mdef\u001b[39;00m \u001b[39mpeek\u001b[39m(\u001b[39mself\u001b[39m):\n\u001b[0;32m     32\u001b[0m     \u001b[39mif\u001b[39;00m(\u001b[39mself\u001b[39m\u001b[39m.\u001b[39msize\u001b[39m==\u001b[39m\u001b[39m0\u001b[39m):\n\u001b[1;32m---> 33\u001b[0m         \u001b[39mraise\u001b[39;00m \u001b[39mException\u001b[39;00m(\u001b[39m\"\u001b[39m\u001b[39mQueue is empty\u001b[39m\u001b[39m\"\u001b[39m)\n\u001b[0;32m     35\u001b[0m     \u001b[39mreturn\u001b[39;00m \u001b[39mself\u001b[39m\u001b[39m.\u001b[39marr[\u001b[39mself\u001b[39m\u001b[39m.\u001b[39mfront]\n",
      "\u001b[1;31mException\u001b[0m: Queue is empty"
     ]
    }
   ],
   "source": [
    "class Queue:\n",
    "    def __init__(self,n) -> None:\n",
    "        self.size = 0   #currSize of queue\n",
    "        self.capacity = n\n",
    "        self.arr = [0]*self.capacity\n",
    "        self.front = -1\n",
    "        self.rear = -1\n",
    "    \n",
    "    def push(self,val):\n",
    "        #check if the queue is full or some space is left for insertion\n",
    "        if (self.rear-self.front==self.capacity-1) or (self.front-self.rear)==1:\n",
    "            raise Exception(\"Queue is full\")\n",
    "            return\n",
    "\n",
    "        if self.size == 0:\n",
    "            self.front = (self.front+1)%self.capacity\n",
    "            self.rear = (self.rear+1)%self.capacity\n",
    "        else:\n",
    "            self.rear = (self.rear+1)%self.capacity\n",
    "        \n",
    "        self.arr[self.rear] = val\n",
    "        self.size+=1\n",
    "\n",
    "    def pop(self):\n",
    "        if(self.size==0):\n",
    "            raise Exception(\"Queue is empty\")\n",
    "        \n",
    "        self.front = (self.front+1)%self.capacity\n",
    "        self.size-=1\n",
    "    \n",
    "    def peek(self):\n",
    "        if(self.size==0):\n",
    "            raise Exception(\"Queue is empty\")\n",
    "\n",
    "        return self.arr[self.front]\n",
    "\n",
    "    def isEmpty(self):\n",
    "        return self.size==0\n",
    "    \n",
    "    \n",
    "q = Queue(5)\n",
    "\n",
    "q.push(4)\n",
    "q.push(3)\n",
    "q.push(0)\n",
    "q.push(9)\n",
    "q.push(-3)\n",
    "print(q.peek())\n",
    "\n",
    "q.pop();\n",
    "q.pop();\n",
    "q.pop();\n",
    "q.pop();\n",
    "q.pop();\n",
    "\n",
    "\n",
    "print(q.peek())\n"
   ]
  },
  {
   "cell_type": "code",
   "execution_count": 25,
   "metadata": {},
   "outputs": [
    {
     "name": "stdout",
     "output_type": "stream",
     "text": [
      "5\n"
     ]
    },
    {
     "ename": "Exception",
     "evalue": "Queue is empty",
     "output_type": "error",
     "traceback": [
      "\u001b[1;31m---------------------------------------------------------------------------\u001b[0m",
      "\u001b[1;31mException\u001b[0m                                 Traceback (most recent call last)",
      "Cell \u001b[1;32mIn[25], line 50\u001b[0m\n\u001b[0;32m     48\u001b[0m dq\u001b[39m.\u001b[39mpop()\n\u001b[0;32m     49\u001b[0m dq\u001b[39m.\u001b[39mpop()\n\u001b[1;32m---> 50\u001b[0m dq\u001b[39m.\u001b[39;49mpop()\n",
      "Cell \u001b[1;32mIn[25], line 27\u001b[0m, in \u001b[0;36mDynamicQueue.pop\u001b[1;34m(self)\u001b[0m\n\u001b[0;32m     25\u001b[0m \u001b[39mdef\u001b[39;00m \u001b[39mpop\u001b[39m(\u001b[39mself\u001b[39m):\n\u001b[0;32m     26\u001b[0m     \u001b[39mif\u001b[39;00m \u001b[39mself\u001b[39m\u001b[39m.\u001b[39mhead \u001b[39m==\u001b[39m \u001b[39mNone\u001b[39;00m:\n\u001b[1;32m---> 27\u001b[0m         \u001b[39mraise\u001b[39;00m \u001b[39mException\u001b[39;00m(\u001b[39m\"\u001b[39m\u001b[39mQueue is empty\u001b[39m\u001b[39m\"\u001b[39m)\n\u001b[0;32m     29\u001b[0m     \u001b[39mself\u001b[39m\u001b[39m.\u001b[39mhead \u001b[39m=\u001b[39m \u001b[39mself\u001b[39m\u001b[39m.\u001b[39mhead\u001b[39m.\u001b[39mnext\n",
      "\u001b[1;31mException\u001b[0m: Queue is empty"
     ]
    }
   ],
   "source": [
    "# linked list implementation\n",
    "class Node:\n",
    "    def __init__(self,val) -> None:\n",
    "        self.val = val\n",
    "        self.next = None\n",
    "\n",
    "class DynamicQueue:\n",
    "    def __init__(self) -> None:\n",
    "        self.head = None\n",
    "        self.tail = None\n",
    "        self.size = 0\n",
    "\n",
    "    def push(self,val):\n",
    "        if self.head ==None:\n",
    "            #empty queue\n",
    "            self.head = Node(val)\n",
    "            self.tail = self.head\n",
    "        else:\n",
    "            #non-empty queue\n",
    "            self.tail.next = Node(val)\n",
    "            self.tail = self.tail.next\n",
    "\n",
    "        self.size+=1\n",
    "    \n",
    "    def pop(self):\n",
    "        if self.head == None:\n",
    "            raise Exception(\"Queue is empty\")\n",
    "\n",
    "        self.head = self.head.next\n",
    "\n",
    "    def peek(self):\n",
    "        if self.head == None:\n",
    "            raise Exception(\"Queue is empty\")\n",
    "\n",
    "        return self.head.val\n",
    "\n",
    "    def isEmpty(self):\n",
    "        return self.head == None\n",
    "    \n",
    "\n",
    "dq = DynamicQueue()\n",
    "\n",
    "dq.push(5)\n",
    "dq.push(8)\n",
    "\n",
    "print(dq.peek())\n",
    "\n",
    "dq.pop()\n",
    "dq.pop()\n",
    "dq.pop()\n",
    "        "
   ]
  }
 ],
 "metadata": {
  "kernelspec": {
   "display_name": "Python 3",
   "language": "python",
   "name": "python3"
  },
  "language_info": {
   "codemirror_mode": {
    "name": "ipython",
    "version": 3
   },
   "file_extension": ".py",
   "mimetype": "text/x-python",
   "name": "python",
   "nbconvert_exporter": "python",
   "pygments_lexer": "ipython3",
   "version": "3.10.9"
  },
  "orig_nbformat": 4,
  "vscode": {
   "interpreter": {
    "hash": "66f804da07f0f556d77bc3269dc5bb19edf020422864031af2885e5ff55f9079"
   }
  }
 },
 "nbformat": 4,
 "nbformat_minor": 2
}
