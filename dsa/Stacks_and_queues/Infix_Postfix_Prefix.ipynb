{
 "cells": [
  {
   "attachments": {},
   "cell_type": "markdown",
   "metadata": {},
   "source": [
    "# Conversion problems\n"
   ]
  },
  {
   "cell_type": "code",
   "execution_count": null,
   "metadata": {},
   "outputs": [],
   "source": [
    "# Infix to postfix\n",
    "\n",
    "class Solution:\n",
    "    \n",
    "    #Function to convert an infix expression to a postfix expression.\n",
    "    def InfixtoPostfix(self, exp):\n",
    "        #code here\n",
    "        stack = []\n",
    "        d = dict()\n",
    "        d['^'] = 3\n",
    "        d['*'] = 2\n",
    "        d['/'] = 2\n",
    "        d['+'] = 1\n",
    "        d['-'] = 1\n",
    "        s = ''\n",
    "        for c in exp:\n",
    "            if c.isalnum():\n",
    "                s+=c\n",
    "            elif c=='(':\n",
    "                stack.append(c)\n",
    "            elif c==')':\n",
    "                while len(stack)>0 and stack[-1]!='(':\n",
    "                    s+=stack.pop();\n",
    "                stack.pop()\n",
    "            else:\n",
    "                while len(stack)>0 and stack[-1]!='(' and d[stack[-1]]>=d[c]:\n",
    "                    ch = stack.pop()\n",
    "                    s+=ch\n",
    "                stack.append(c)\n",
    "                \n",
    "        while(len(stack)>0):\n",
    "            s+=stack.pop()\n",
    "        return s"
   ]
  }
 ],
 "metadata": {
  "language_info": {
   "name": "python"
  },
  "orig_nbformat": 4
 },
 "nbformat": 4,
 "nbformat_minor": 2
}
